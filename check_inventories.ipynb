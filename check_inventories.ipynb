{
 "cells": [
  {
   "cell_type": "code",
   "execution_count": 1,
   "metadata": {},
   "outputs": [],
   "source": [
    "import os\n",
    "\n",
    "from obspy import read_inventory, Inventory\n",
    "\n",
    "indir = '../inventory/'\n",
    "\n",
    "nets = ['CC', 'CC', 'CC', 'CC', 'PB'] + ['UW']*8\n",
    "stats = ['SUG', 'SWFL', 'SWF2', 'STD', 'B203', 'EDM', 'SHW', 'FL2', 'HSR', 'JUN', 'SOS', 'STD', 'YEL']\n",
    "chans = ['EHZ', 'BH*', 'EHZ', 'EHZ', 'EHZ', 'EHZ', 'EHZ']"
   ]
  },
  {
   "cell_type": "code",
   "execution_count": 2,
   "metadata": {},
   "outputs": [],
   "source": [
    "inv = Inventory()\n",
    "for net, stat in zip(nets, stats):\n",
    "    inv += read_inventory(os.path.join(indir, f'{net}.{stat}.xml'))"
   ]
  },
  {
   "cell_type": "code",
   "execution_count": 3,
   "metadata": {},
   "outputs": [
    {
     "name": "stdout",
     "output_type": "stream",
     "text": [
      "Channel 'EHZ', Location '' \n",
      "\tTime range: 2007-07-19T00:00:00.000000Z - --\n",
      "\tLatitude: 46.17, Longitude: -122.33, Elevation: 814.4 m, Local Depth: 218.8 m\n",
      "\tAzimuth: 0.00 degrees from north, clockwise\n",
      "\tDip: -90.00 degrees down from horizontal\n",
      "\tSampling Rate: 100.00 Hz\n",
      "\tSensor (Description): None (HS-1-LT/Quanterra 330 Linear Phase Composite)\n",
      "\tResponse information available\n"
     ]
    }
   ],
   "source": [
    "\n",
    "print('\\n'.join([str(invs) for invs in inv.select(network='PB', station='B203', channel='EHZ')[0][0][-3:]]))\n",
    "\n",
    "\n"
   ]
  },
  {
   "cell_type": "code",
   "execution_count": 40,
   "metadata": {},
   "outputs": [
    {
     "name": "stdout",
     "output_type": "stream",
     "text": [
      "Channel 'EHZ', Location '' \n",
      "\tTime range: 1980-06-01T00:00:00.000000Z - 1981-07-20T00:00:00.000000Z\n",
      "\tLatitude: 46.20, Longitude: -122.15, Elevation: 1609.0 m, Local Depth: 0.0 m\n",
      "\tAzimuth: 0.00 degrees from north, clockwise\n",
      "\tDip: -90.00 degrees down from horizontal\n",
      "\tSampling Rate: 100.00 Hz\n",
      "\tSensor (Description): None (L-4C VERTICAL,Velocity Sensor,SERCEL)\n",
      "\tResponse information available\n",
      "Channel 'EHZ', Location '' \n",
      "\tTime range: 1981-07-20T00:00:00.000000Z - 1982-04-29T00:00:00.000000Z\n",
      "\tLatitude: 46.20, Longitude: -122.15, Elevation: 1609.0 m, Local Depth: 0.0 m\n",
      "\tAzimuth: 0.00 degrees from north, clockwise\n",
      "\tDip: -90.00 degrees down from horizontal\n",
      "\tSampling Rate: 100.00 Hz\n",
      "\tSensor (Description): None (L-4C VERTICAL,Velocity Sensor,SERCEL)\n",
      "\tResponse information available\n",
      "Channel 'EHZ', Location '' \n",
      "\tTime range: 1982-04-29T00:00:00.000000Z - 1982-06-09T00:00:00.000000Z\n",
      "\tLatitude: 46.20, Longitude: -122.15, Elevation: 1609.0 m, Local Depth: 0.0 m\n",
      "\tAzimuth: 0.00 degrees from north, clockwise\n",
      "\tDip: -90.00 degrees down from horizontal\n",
      "\tSampling Rate: 100.00 Hz\n",
      "\tSensor (Description): None (L-4C VERTICAL,Velocity Sensor,SERCEL)\n",
      "\tResponse information available\n",
      "Channel 'EHZ', Location '' \n",
      "\tTime range: 1982-06-09T00:00:00.000000Z - 1995-01-01T00:00:00.000000Z\n",
      "\tLatitude: 46.20, Longitude: -122.15, Elevation: 1609.0 m, Local Depth: 0.0 m\n",
      "\tAzimuth: 0.00 degrees from north, clockwise\n",
      "\tDip: -90.00 degrees down from horizontal\n",
      "\tSampling Rate: 100.00 Hz\n",
      "\tSensor (Description): None (L-4C VERTICAL,Velocity Sensor,SERCEL)\n",
      "\tResponse information available\n",
      "Channel 'EHZ', Location '' \n",
      "\tTime range: 1995-01-01T00:00:00.000000Z - 1995-01-19T00:00:00.000000Z\n",
      "\tLatitude: 46.20, Longitude: -122.15, Elevation: 1609.0 m, Local Depth: 0.0 m\n",
      "\tAzimuth: 0.00 degrees from north, clockwise\n",
      "\tDip: -90.00 degrees down from horizontal\n",
      "\tSampling Rate: 100.00 Hz\n",
      "\tSensor (Description): None (L-4C VERTICAL,Velocity Sensor,SERCEL)\n",
      "\tResponse information available\n",
      "Channel 'EHZ', Location '' \n",
      "\tTime range: 1995-01-19T00:00:00.000000Z - 2004-08-11T00:00:00.000000Z\n",
      "\tLatitude: 46.20, Longitude: -122.15, Elevation: 1609.0 m, Local Depth: 0.0 m\n",
      "\tAzimuth: 0.00 degrees from north, clockwise\n",
      "\tDip: -90.00 degrees down from horizontal\n",
      "\tSampling Rate: 100.00 Hz\n",
      "\tSensor (Description): None (L-4C VERTICAL,Velocity Sensor,SERCEL)\n",
      "\tResponse information available\n",
      "Channel 'EHZ', Location '' \n",
      "\tTime range: 2004-08-12T00:00:00.000000Z - 2008-04-01T00:00:00.000000Z\n",
      "\tLatitude: 46.20, Longitude: -122.15, Elevation: 1609.0 m, Local Depth: 0.0 m\n",
      "\tAzimuth: 0.00 degrees from north, clockwise\n",
      "\tDip: -90.00 degrees down from horizontal\n",
      "\tSampling Rate: 100.00 Hz\n",
      "\tSensor (Description): None (L-4C VERTICAL,Velocity Sensor,SERCEL)\n",
      "\tResponse information available\n",
      "Channel 'EHZ', Location '' \n",
      "\tTime range: 2008-04-01T00:00:00.000000Z - --\n",
      "\tLatitude: 46.20, Longitude: -122.15, Elevation: 1609.0 m, Local Depth: 0.0 m\n",
      "\tAzimuth: 0.00 degrees from north, clockwise\n",
      "\tDip: -90.00 degrees down from horizontal\n",
      "\tSampling Rate: 100.00 Hz\n",
      "\tSensor (Description): None (L-4C VERTICAL,Velocity Sensor,SERCEL)\n",
      "\tResponse information available\n"
     ]
    }
   ],
   "source": [
    "print(\"\\n\".join([str(ii) for ii in inv.select(network='UW', station='EDM', channel='EHZ')[0][0]]))"
   ]
  }
 ],
 "metadata": {
  "kernelspec": {
   "display_name": "seismic",
   "language": "python",
   "name": "python3"
  },
  "language_info": {
   "codemirror_mode": {
    "name": "ipython",
    "version": 3
   },
   "file_extension": ".py",
   "mimetype": "text/x-python",
   "name": "python",
   "nbconvert_exporter": "python",
   "pygments_lexer": "ipython3",
   "version": "3.10.5"
  },
  "orig_nbformat": 4
 },
 "nbformat": 4,
 "nbformat_minor": 2
}
