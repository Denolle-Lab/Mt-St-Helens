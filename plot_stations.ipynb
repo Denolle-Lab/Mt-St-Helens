{
 "cells": [
  {
   "cell_type": "code",
   "execution_count": 6,
   "metadata": {},
   "outputs": [
    {
     "name": "stderr",
     "output_type": "stream",
     "text": [
      "pygmt-session [WARNING]: Remote dataset given to a data processing module but no registration was specified - default to gridline registration (if available)\n",
      "grdcut [WARNING]: (w - x_min) must equal (NX + eps) * x_inc), where NX is an integer and |eps| <= 0.0001.\n",
      "grdcut [WARNING]: w reset from -122.551486 to -122.551666667\n",
      "grdcut [WARNING]: (e - x_min) must equal (NX + eps) * x_inc), where NX is an integer and |eps| <= 0.0001.\n",
      "grdcut [WARNING]: e reset from -121.936703 to -121.936666667\n",
      "grdcut [WARNING]: (s - y_min) must equal (NY + eps) * y_inc), where NY is an integer and |eps| <= 0.0001.\n",
      "grdcut [WARNING]: s reset from 45.986 to 45.9858333333\n",
      "grdcut [WARNING]: (n - y_min) must equal (NY + eps) * y_inc), where NY is an integer and |eps| <= 0.0001.\n",
      "grdcut [WARNING]: n reset from 46.42527 to 46.4258333333\n"
     ]
    }
   ],
   "source": [
    "import numpy as np\n",
    "import pygmt\n",
    "import pandas as pd\n",
    "\n",
    "\n",
    "stats = pd.read_csv('stat_locs.txt', sep='|', header=0)\n",
    "# 2 is lat 3 is lon\n",
    "region = [\n",
    "    stats.Longitude.min() - .2,\n",
    "    stats.Longitude.max() + .2,\n",
    "    stats.Latitude.min() - .15,\n",
    "    stats.Latitude.max() + .15,\n",
    "]\n",
    "\n",
    "helen = (46.191, -122.196)\n",
    "\n",
    "\n",
    "pygmt.config(FONT='14p,Helvetica-Bold')\n",
    "\n",
    "fig = pygmt.Figure()\n",
    "# relief\n",
    "grid = pygmt.datasets.load_earth_relief(resolution='03s', region=region)\n",
    "fig.grdimage(grid=grid, projection=\"M15c\", cmap=\"geo\")\n",
    "fig.basemap(region=region, projection=\"M15c\", frame=[\"a\", \"+t(a)\"], rose=\"n0.92/0.92+w1.3c+f3+l\")\n",
    "\n",
    "\n",
    "fig.plot(\n",
    "    x=stats.Longitude, y=stats.Latitude, style=\"i0.6c\",\n",
    "    color=\"grey\", pen=\"white\", label=f'{stats.Network[0]}.{stats.Station[0]}')\n",
    "# fig.plot(\n",
    "#     x=stats.Longitude[1], y=stats.Latitude[1], style=\"i0.9c\", color=\"black\",\n",
    "#     pen=\"white\", label=f'{stats.Network[1]}.{stats.Station[1]}')\n",
    "# fig.plot(\n",
    "#     x=stats.Longitude[2], y=stats.Latitude[2], style=\"i0.9c\", color=\"magenta\",\n",
    "#     pen=\"white\", label=f'{stats.Network[2]}.{stats.Station[2]}')\n",
    "# fig.plot(\n",
    "#     x=stats.Longitude[3], y=stats.Latitude[3], style=\"i0.9c\", color=\"blue\",\n",
    "#     pen=\"white\", label=f'{stats.Network[3]}.{stats.Station[3]}')\n",
    "# fig.legend(\n",
    "#     transparency=15, box=\"+gwhite+p1p\", position=\"jTL+jTL+w4.2c/2.8c+o0.1c\")\n",
    "\n",
    "fig.plot(\n",
    "    x=helen[1], y=helen[0], style=\"kvolcano/1c\", color=\"red\", pen=\"white\",\n",
    "    label='Volcanoes')\n",
    "\n",
    "fig.colorbar(frame=[\"a500\", \"x+lElevation\", \"y+lm\"])\n",
    "\n",
    "lonmid = (region[0] + region[1])/2\n",
    "latmid = (region[2] + region[3])/2 - 10\n",
    "with fig.inset(position=\"jBR+w6.5c/6.5c+o-2.9c/-.9c\"):\n",
    "    fig.coast(\n",
    "        projection=f\"G{lonmid}/{latmid}/60/6.5c\", region=\"g\", frame=\"g\",\n",
    "        land=\"gray\", water='white')\n",
    "    fig.plot(\n",
    "        x=helen[1], y=helen[0], style=\"kvolcano/0.33c\", color=\"red\",\n",
    "        pen=\"black\", projection=f\"G{lonmid}/{latmid}/60/6.5c\")\n",
    "\n",
    "fig.savefig('../EGU23/figures/station_map.png', dpi=300, transparent=True)\n",
    "# fig.savefig('station_map.pdf' transparent=True)\n",
    "\n",
    "# fig.show()\n"
   ]
  }
 ],
 "metadata": {
  "kernelspec": {
   "display_name": "Python 3.10.5 ('seismic')",
   "language": "python",
   "name": "python3"
  },
  "language_info": {
   "codemirror_mode": {
    "name": "ipython",
    "version": 3
   },
   "file_extension": ".py",
   "mimetype": "text/x-python",
   "name": "python",
   "nbconvert_exporter": "python",
   "pygments_lexer": "ipython3",
   "version": "3.10.5"
  },
  "orig_nbformat": 4,
  "vscode": {
   "interpreter": {
    "hash": "1825331728d7727e293b5623a5e6bd8e250775ec397de1e11981af4736771f9d"
   }
  }
 },
 "nbformat": 4,
 "nbformat_minor": 2
}
