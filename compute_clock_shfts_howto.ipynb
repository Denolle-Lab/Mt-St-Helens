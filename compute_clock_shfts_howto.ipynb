{
 "cells": [
  {
   "cell_type": "markdown",
   "metadata": {},
   "source": [
    "# 0. Prerequisits\n",
    "\n",
    "1. Make sure to install [SeisMIC](https://github.com/PeterMakus/SeisMIC) version 0.5.14 or later. Currently, this version is only available over the GitHub `dev` branch. Follow the instructions provided [here](https://petermakus.github.io/SeisMIC/modules/get_started.html#via-github) to install SeisMIC's developer version.\n",
    "2. Compute Cross-Correlations between (a) the stations that you suspect to have a clock shift and stations that are operating normally. Follow the instructions in [SeisMIC's tutorial](https://petermakus.github.io/SeisMIC/modules/tutorials.html) to do so. For the example at MSH, we will want to have data between approximately August 2013 and February 2014 and data from the stations *UW.EDM*, *UW.FL2*, *UW.HSR*, *UW.SHW*, *UW.JUN*, *UW.SOS*, *UW.YEL* (the stations with  a clock shift) and some stable stations, I used: *CC.VALT*, *PB.B202*, and *PB.B204*. Note that you will not have to compute the cross-correlations between the UW stations as they are all digitised over a common clock (i.e., no clock shift will be visible)."
   ]
  },
  {
   "cell_type": "markdown",
   "metadata": {},
   "source": [
    "# 1. Compute clock shift for each station pair."
   ]
  },
  {
   "cell_type": "code",
   "execution_count": null,
   "metadata": {},
   "outputs": [],
   "source": []
  }
 ],
 "metadata": {
  "language_info": {
   "name": "python"
  }
 },
 "nbformat": 4,
 "nbformat_minor": 2
}
