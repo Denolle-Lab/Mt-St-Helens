{
 "cells": [
  {
   "cell_type": "code",
   "execution_count": null,
   "metadata": {},
   "outputs": [],
   "source": [
    "import numpy as np\n",
    "import matplotlib.pyplot as plt\n",
    "from obspy import UTCDateTime\n",
    "\n",
    "\n",
    "infile = '../dv/new_gap_handling/availability_0.5.npz'\n",
    "\n",
    "data = np.load(infile)\n",
    "t = data['t']\n",
    "n = data['n']"
   ]
  }
 ],
 "metadata": {
  "kernelspec": {
   "display_name": "seismic",
   "language": "python",
   "name": "python3"
  },
  "language_info": {
   "name": "python",
   "version": "3.10.5"
  }
 },
 "nbformat": 4,
 "nbformat_minor": 2
}
